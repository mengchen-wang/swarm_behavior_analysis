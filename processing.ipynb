{
 "cells": [
  {
   "cell_type": "code",
   "execution_count": 1,
   "metadata": {},
   "outputs": [],
   "source": [
    "import cv2\n",
    "import os\n",
    "import threading\n",
    " \n",
    "def video_to_frames(video_path, outPutDirName):\n",
    "    times = 0\n",
    "    end_frame = 10\n",
    "    frame_frequency = 100\n",
    "    if not os.path.exists(outPutDirName):\n",
    "        os.makedirs(outPutDirName)\n",
    "         \n",
    "    camera = cv2.VideoCapture(video_path)\n",
    "\n",
    "    while True:\n",
    "        times = times + 1\n",
    "        res, image = camera.read()\n",
    "        if not res:\n",
    "            break\n",
    "        if times <= end_frame or (times % frame_frequency == 0 and times < 300):\n",
    "            print(image.shape)\n",
    "            cv2.imwrite(outPutDirName + '/' + str(times)+'.jpg', image)\n",
    "             \n",
    "    camera.release()"
   ]
  },
  {
   "cell_type": "code",
   "execution_count": 2,
   "metadata": {},
   "outputs": [
    {
     "name": "stdout",
     "output_type": "stream",
     "text": [
      "(666, 870, 3)\n",
      "(666, 870, 3)\n",
      "(666, 870, 3)\n",
      "(666, 870, 3)\n",
      "(666, 870, 3)\n",
      "(666, 870, 3)\n",
      "(666, 870, 3)\n",
      "(666, 870, 3)\n",
      "(666, 870, 3)\n",
      "(666, 870, 3)\n",
      "(666, 870, 3)\n",
      "(666, 870, 3)\n"
     ]
    }
   ],
   "source": [
    "if __name__ == \"__main__\":\n",
    "    input_dir = r'./10uL/'     \n",
    "    save_dir = r'./10uL/Frames'    \n",
    "    count = 0   # 视频数\n",
    "    for video_name in os.listdir(input_dir):\n",
    "        if video_name[-4:] == \".mp4\":\n",
    "            video_path = os.path.join(input_dir, video_name)\n",
    "            outPutDirName = os.path.join(save_dir, video_name[:-4])\n",
    "            threading.Thread(target=video_to_frames, args=(video_path, outPutDirName)).start()\n",
    "            count = count + 1\n",
    "            break"
   ]
  }
 ],
 "metadata": {
  "kernelspec": {
   "display_name": "Python 3.9.13 ('cv2')",
   "language": "python",
   "name": "python3"
  },
  "language_info": {
   "codemirror_mode": {
    "name": "ipython",
    "version": 3
   },
   "file_extension": ".py",
   "mimetype": "text/x-python",
   "name": "python",
   "nbconvert_exporter": "python",
   "pygments_lexer": "ipython3",
   "version": "3.9.13"
  },
  "vscode": {
   "interpreter": {
    "hash": "6cf3b51f931471aa64131bb1ce21e8fd1b6b4cc7d3f96bf45c538c423b01bc3f"
   }
  }
 },
 "nbformat": 4,
 "nbformat_minor": 2
}
